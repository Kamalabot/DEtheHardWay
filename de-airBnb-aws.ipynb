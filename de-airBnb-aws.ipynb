{
 "cells": [
  {
   "cell_type": "code",
   "execution_count": 1,
   "id": "65c1f79e",
   "metadata": {},
   "outputs": [],
   "source": [
    "import boto3\n",
    "import time"
   ]
  },
  {
   "cell_type": "code",
   "execution_count": 3,
   "id": "47190a39",
   "metadata": {},
   "outputs": [],
   "source": [
    "import pandas as pd"
   ]
  },
  {
   "cell_type": "code",
   "execution_count": 2,
   "id": "5982ea05",
   "metadata": {},
   "outputs": [],
   "source": [
    "import pandas as pd\n",
    "from io import StringIO"
   ]
  },
  {
   "cell_type": "code",
   "execution_count": 6,
   "id": "20c9f6aa",
   "metadata": {},
   "outputs": [],
   "source": [
    "import configparser"
   ]
  },
  {
   "cell_type": "code",
   "execution_count": 7,
   "id": "a465fbae",
   "metadata": {},
   "outputs": [],
   "source": [
    "config = configparser.ConfigParser()"
   ]
  },
  {
   "cell_type": "code",
   "execution_count": 1,
   "id": "f4e3d1d0",
   "metadata": {},
   "outputs": [
    {
     "ename": "NameError",
     "evalue": "name 'config' is not defined",
     "output_type": "error",
     "traceback": [
      "\u001b[0;31m---------------------------------------------------------------------------\u001b[0m",
      "\u001b[0;31mNameError\u001b[0m                                 Traceback (most recent call last)",
      "Cell \u001b[0;32mIn [1], line 1\u001b[0m\n\u001b[0;32m----> 1\u001b[0m config\u001b[38;5;241m.\u001b[39mread_file(\u001b[38;5;28mopen\u001b[39m(\u001b[38;5;124m'\u001b[39m\u001b[38;5;124mpost.config\u001b[39m\u001b[38;5;124m'\u001b[39m))\n",
      "\u001b[0;31mNameError\u001b[0m: name 'config' is not defined"
     ]
    }
   ],
   "source": [
    "config.read_file(open('post.config'))"
   ]
  },
  {
   "cell_type": "code",
   "execution_count": 6,
   "id": "53e46c58",
   "metadata": {},
   "outputs": [],
   "source": [
    "athenaClient = boto3.client(\n",
    "    \"athena\",\n",
    "    aws_access_key_id=AWS_ACCESS_KEY,\n",
    "    aws_secret_access_key=AWS_SECRET_ACCESS_KEY,\n",
    "    region_name=AWS_REGION)"
   ]
  },
  {
   "cell_type": "code",
   "execution_count": 34,
   "id": "1101f0ed",
   "metadata": {},
   "outputs": [],
   "source": [
    "Dict = {}\n",
    "def download_and_load_query_results(client, query_response):\n",
    "    while True:\n",
    "        try:\n",
    "            client.get_query_results(\n",
    "                QueryExecutionId=query_response[\"QueryExecutionId\"]\n",
    "            )\n",
    "            break\n",
    "        except Exception as err:\n",
    "            if \"not yet finished\" in str(err):\n",
    "                time.sleep(2)\n",
    "            else:\n",
    "                raise err\n",
    "                \n",
    "    temp_file_location = \"athena_query_results.csv\"\n",
    "    s3_client = boto3.client(\"s3\",\n",
    "                            aws_access_key_id=AWS_ACCESS_KEY,\n",
    "                            aws_secret_access_key=AWS_SECRET_ACCESS_KEY,\n",
    "                            region_name=AWS_REGION)\n",
    "    s3_client.download_file(\n",
    "    S3_BUCKET_NAME,\n",
    "    f\"{S3_OUTPUT_DIRECTORY}/{query_response['QueryExecutionId']}.csv\",\n",
    "    temp_file_location)\n",
    "    return pd.read_csv(temp_file_location)"
   ]
  },
  {
   "cell_type": "code",
   "execution_count": 37,
   "id": "a309f07e",
   "metadata": {},
   "outputs": [],
   "source": [
    "response = athenaClient.start_query_execution(\n",
    "    QueryString = \"SELECT * FROM enigma_jhu;\",\n",
    "    QueryExecutionContext={\"Database\":SCHEMA_NAME},\n",
    "    ResultConfiguration={\n",
    "        \"OutputLocation\":S3_STAGING_DIR,\n",
    "        \"EncryptionConfiguration\":{\"EncryptionOption\":\"SSE_S3\"}    \n",
    "    })"
   ]
  },
  {
   "cell_type": "code",
   "execution_count": 4,
   "id": "2925ece5",
   "metadata": {},
   "outputs": [],
   "source": [
    "csv_buff = StringIO()"
   ]
  },
  {
   "cell_type": "code",
   "execution_count": 87,
   "id": "a1668e78",
   "metadata": {},
   "outputs": [
    {
     "data": {
      "text/plain": [
       "{'ResponseMetadata': {'RequestId': 'DR9WZPDT7AJSRNKK',\n",
       "  'HostId': 'SmuwdPDosEwW0yMerj62GpmeBAf95ETk0TkiNqcs7dSOLc/m6BGMQI3GscyNPqmR0/Q6Rkvdma8=',\n",
       "  'HTTPStatusCode': 200,\n",
       "  'HTTPHeaders': {'x-amz-id-2': 'SmuwdPDosEwW0yMerj62GpmeBAf95ETk0TkiNqcs7dSOLc/m6BGMQI3GscyNPqmR0/Q6Rkvdma8=',\n",
       "   'x-amz-request-id': 'DR9WZPDT7AJSRNKK',\n",
       "   'date': 'Sun, 30 Oct 2022 09:53:49 GMT',\n",
       "   'etag': '\"052b91a93c128f0920be05c2066e5f13\"',\n",
       "   'server': 'AmazonS3',\n",
       "   'content-length': '0'},\n",
       "  'RetryAttempts': 0},\n",
       " 'ETag': '\"052b91a93c128f0920be05c2066e5f13\"'}"
      ]
     },
     "execution_count": 87,
     "metadata": {},
     "output_type": "execute_result"
    }
   ],
   "source": [
    "s3Reso.Object(bucket,'output/dimHospital.csv').put(Body=csv_buff.getvalue())"
   ]
  },
  {
   "cell_type": "code",
   "execution_count": 88,
   "id": "0d32631e",
   "metadata": {},
   "outputs": [],
   "source": [
    "dimRegion2.to_csv(csv_buff)"
   ]
  },
  {
   "cell_type": "code",
   "execution_count": 47,
   "id": "4d719646",
   "metadata": {},
   "outputs": [],
   "source": [
    "KEY = config.get('AWS','KEY')\n",
    "SECRET = config.get('AWS','SECRET')\n",
    "\n",
    "DWH_CLUSTER_TYPE=config.get('DWH','DWH_CLUSTER_TYPE')\n",
    "DWH_NUM_NODES=config.get('DWH','DWH_NUM_NODES')\n",
    "DWH_NODE_TYPE=config.get('DWH','DWH_NODE_TYPE')\n",
    "DWH_CLUSTER_IDENTIFIER=config.get('DWH','DWH_CLUSTER_IDENTIFIER')\n",
    "DWH_DB=config.get('DWH','DWH_DB')\n",
    "DWH_DB_USER=config.get('DWH','DWH_DB_USER')\n",
    "DWH_DB_PASSWORD=config.get('DWH','DWH_DB_PASSWORD')\n",
    "DWH_PORT=config.get('DWH','DWH_PORT')\n",
    "DWH_IAM_ROLE_NAME=config.get('DWH','DWH_IAM_ROLE_NAME')"
   ]
  },
  {
   "cell_type": "code",
   "execution_count": 48,
   "id": "31e8eec9",
   "metadata": {},
   "outputs": [
    {
     "data": {
      "text/plain": [
       "'redshiftRole'"
      ]
     },
     "execution_count": 48,
     "metadata": {},
     "output_type": "execute_result"
    }
   ],
   "source": [
    "config.get('DWH','DWH_IAM_ROLE_NAME')"
   ]
  },
  {
   "cell_type": "code",
   "execution_count": 17,
   "id": "d1680c19",
   "metadata": {},
   "outputs": [],
   "source": [
    "ec2 = boto3.resource('ec2',\n",
    "                    region_name=\"us-east-1\",\n",
    "                    aws_access_key_id=KEY,\n",
    "                    aws_secret_access_key=SECRET)"
   ]
  },
  {
   "cell_type": "code",
   "execution_count": 43,
   "id": "0e7f74cc",
   "metadata": {},
   "outputs": [],
   "source": [
    "iam = boto3.client('iam',\n",
    "                    region_name=\"us-east-1\",\n",
    "                    aws_access_key_id=KEY,\n",
    "                    aws_secret_access_key=SECRET)"
   ]
  },
  {
   "cell_type": "code",
   "execution_count": 21,
   "id": "834ce31f",
   "metadata": {},
   "outputs": [],
   "source": [
    "redshift = boto3.client('redshift',\n",
    "                    region_name=\"us-east-1\",\n",
    "                    aws_access_key_id=KEY,\n",
    "                    aws_secret_access_key=SECRET)"
   ]
  },
  {
   "cell_type": "code",
   "execution_count": 22,
   "id": "f4bdb262",
   "metadata": {},
   "outputs": [],
   "source": [
    "s3 = boto3.resource('s3',\n",
    "                    region_name=\"us-east-1\",\n",
    "                    aws_access_key_id=KEY,\n",
    "                    aws_secret_access_key=SECRET)"
   ]
  },
  {
   "cell_type": "code",
   "execution_count": 33,
   "id": "3f6e7127",
   "metadata": {},
   "outputs": [],
   "source": [
    "bucket = s3.Bucket(\"de-glued\")"
   ]
  },
  {
   "cell_type": "code",
   "execution_count": 36,
   "id": "d3eb4fa1",
   "metadata": {},
   "outputs": [],
   "source": [
    "locFile = [filename.key for filename in bucket.objects.filter(Prefix='output/Unsaved/2022/10')]"
   ]
  },
  {
   "cell_type": "code",
   "execution_count": 53,
   "id": "6ad91f10",
   "metadata": {},
   "outputs": [],
   "source": [
    "roleARN = iam.get_role(RoleName=DWH_IAM_ROLE_NAME)"
   ]
  },
  {
   "cell_type": "code",
   "execution_count": 58,
   "id": "be5533db",
   "metadata": {},
   "outputs": [],
   "source": [
    "iamArn = roleARN['Role']['Arn']"
   ]
  },
  {
   "cell_type": "code",
   "execution_count": 59,
   "id": "a5bcfbe6",
   "metadata": {},
   "outputs": [],
   "source": [
    "try:\n",
    "    response = redshift.create_cluster(\n",
    "        ClusterType=DWH_CLUSTER_TYPE,\n",
    "        NodeType=DWH_NODE_TYPE,\n",
    "        DBName=DWH_DB,\n",
    "        ClusterIdentifier=DWH_CLUSTER_IDENTIFIER,\n",
    "        MasterUsername=DWH_DB_USER,\n",
    "        MasterUserPassword=DWH_DB_PASSWORD,\n",
    "        IamRoles=[iamArn]\n",
    "    )\n",
    "except Exception as e:\n",
    "    print(e)"
   ]
  },
  {
   "cell_type": "code",
   "execution_count": 66,
   "id": "11b20049",
   "metadata": {},
   "outputs": [],
   "source": [
    "clusterProp = redshift.describe_clusters(ClusterIdentifier=DWH_CLUSTER_IDENTIFIER)['Clusters'][0]"
   ]
  },
  {
   "cell_type": "code",
   "execution_count": 68,
   "id": "8af2c9b4",
   "metadata": {},
   "outputs": [],
   "source": [
    "DWH_ENDPOINT = clusterProp['Endpoint']['Address']\n",
    "DWH_ROLE_ARN = clusterProp['IamRoles'][0]['IamRoleArn']\n",
    "DB_NAME=clusterProp['DBName']\n",
    "DB_USER= clusterProp['MasterUsername']"
   ]
  },
  {
   "cell_type": "code",
   "execution_count": 69,
   "id": "696f7e1f",
   "metadata": {},
   "outputs": [
    {
     "data": {
      "text/plain": [
       "'redshift-covid.cyg2sluuahwh.us-east-1.redshift.amazonaws.com'"
      ]
     },
     "execution_count": 69,
     "metadata": {},
     "output_type": "execute_result"
    }
   ],
   "source": [
    "DWH_ENDPOINT"
   ]
  },
  {
   "cell_type": "code",
   "execution_count": 70,
   "id": "425e7bc0",
   "metadata": {},
   "outputs": [
    {
     "data": {
      "text/plain": [
       "'vpc-0b4db824c1d632c16'"
      ]
     },
     "execution_count": 70,
     "metadata": {},
     "output_type": "execute_result"
    }
   ],
   "source": [
    "clusterProp['VpcId']"
   ]
  },
  {
   "cell_type": "code",
   "execution_count": 74,
   "id": "0d7e76eb",
   "metadata": {},
   "outputs": [
    {
     "name": "stdout",
     "output_type": "stream",
     "text": [
      "ec2.SecurityGroup(id='sg-0290e6034c427a02a')\n"
     ]
    }
   ],
   "source": [
    "try:\n",
    "    vpc = ec2.Vpc(id=clusterProp['VpcId'])\n",
    "    defaultSg = list(vpc.security_groups.all())[0]\n",
    "    print(defaultSg)\n",
    "    \n",
    "    defaultSg.authorize_ingress(\n",
    "            GroupName=defaultSg.group_name,\n",
    "            CidrIp='0.0.0.0/0',\n",
    "            IpProtocol='TCP',\n",
    "            FromPort=int(DWH_PORT),\n",
    "            ToPort=int(DWH_PORT)\n",
    "    )\n",
    "except Exception as e:\n",
    "    print(e)"
   ]
  },
  {
   "cell_type": "code",
   "execution_count": 75,
   "id": "c377213c",
   "metadata": {},
   "outputs": [],
   "source": [
    "import redshift_connector"
   ]
  },
  {
   "cell_type": "code",
   "execution_count": 76,
   "id": "ab47e6d8",
   "metadata": {},
   "outputs": [],
   "source": [
    "import psycopg2"
   ]
  },
  {
   "cell_type": "code",
   "execution_count": 113,
   "id": "d9e15950",
   "metadata": {},
   "outputs": [],
   "source": [
    "try:\n",
    "    conn = psycopg2.connect(host=DWH_ENDPOINT,dbname=DB_NAME,user=DB_USER,password=DWH_DB_PASSWORD,port=DWH_PORT)\n",
    "except Exception as e:\n",
    "    print(e)"
   ]
  },
  {
   "cell_type": "code",
   "execution_count": 114,
   "id": "cce5b260",
   "metadata": {},
   "outputs": [],
   "source": [
    "conn.set_session(autocommit=True)"
   ]
  },
  {
   "cell_type": "code",
   "execution_count": 115,
   "id": "9dffd99d",
   "metadata": {},
   "outputs": [],
   "source": [
    "try:\n",
    "    cur = conn.cursor()\n",
    "    \n",
    "except:\n",
    "    print(e)"
   ]
  },
  {
   "cell_type": "code",
   "execution_count": 133,
   "id": "4da312ec",
   "metadata": {},
   "outputs": [],
   "source": [
    "try:\n",
    "    cur.execute(\"\"\"\n",
    "        CREATE TABLE \"factcorrected\" (\n",
    "            \"index\" INTEGER,\n",
    "          \"fips\" REAL,\n",
    "          \"province_state\" TEXT,\n",
    "          \"country_region\" TEXT,\n",
    "          \"confirmed\" REAL,\n",
    "          \"deaths\" REAL,\n",
    "          \"recovered\" REAL,\n",
    "          \"active\" REAL,\n",
    "          \"date\" INTEGER,\n",
    "          \"state\" TEXT,\n",
    "          \"positive\" REAL,\n",
    "          \"negative\" REAL,\n",
    "          \"hospitalizedcurrently\" REAL,\n",
    "          \"hospitalized\" REAL,\n",
    "          \"hospitalizeddischarged\" REAL\n",
    "    )\n",
    "    \"\"\")\n",
    "except Exception as e:\n",
    "    print(e)"
   ]
  },
  {
   "cell_type": "code",
   "execution_count": 125,
   "id": "a081974e",
   "metadata": {},
   "outputs": [
    {
     "data": {
      "text/plain": [
       "'arn:aws:iam::642924624251:role/redshiftRole'"
      ]
     },
     "execution_count": 125,
     "metadata": {},
     "output_type": "execute_result"
    }
   ],
   "source": [
    "DWH_ROLE_ARN"
   ]
  },
  {
   "cell_type": "code",
   "execution_count": 134,
   "id": "4cc47445",
   "metadata": {},
   "outputs": [
    {
     "name": "stdout",
     "output_type": "stream",
     "text": [
      "Load into table 'factcorrected' failed.  Check 'stl_load_errors' system table for details.\n",
      "\n"
     ]
    }
   ],
   "source": [
    "try:\n",
    "    cur.execute(\"\"\"\n",
    "        COPY factcorrected from 's3://de-glued/output/factcovid.csv'\n",
    "        CREDENTIALS 'aws_iam_role=arn:aws:iam::642924624251:role/redshiftRole'\n",
    "        DELIMITER ','\n",
    "        region 'us-east-1'\n",
    "    \"\"\")\n",
    "except Exception as e:\n",
    "    print(e)"
   ]
  },
  {
   "cell_type": "code",
   "execution_count": null,
   "id": "016b2cc4",
   "metadata": {},
   "outputs": [],
   "source": []
  }
 ],
 "metadata": {
  "kernelspec": {
   "display_name": "Python 3 (ipykernel)",
   "language": "python",
   "name": "python3"
  },
  "language_info": {
   "codemirror_mode": {
    "name": "ipython",
    "version": 3
   },
   "file_extension": ".py",
   "mimetype": "text/x-python",
   "name": "python",
   "nbconvert_exporter": "python",
   "pygments_lexer": "ipython3",
   "version": "3.10.7"
  }
 },
 "nbformat": 4,
 "nbformat_minor": 5
}
