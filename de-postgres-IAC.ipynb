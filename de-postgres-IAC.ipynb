{
 "cells": [
  {
   "cell_type": "code",
   "execution_count": 1,
   "id": "65c1f79e",
   "metadata": {},
   "outputs": [],
   "source": [
    "import boto3\n",
    "import time"
   ]
  },
  {
   "cell_type": "code",
   "execution_count": 2,
   "id": "5982ea05",
   "metadata": {},
   "outputs": [],
   "source": [
    "import pandas as pd\n",
    "from io import StringIO"
   ]
  },
  {
   "cell_type": "code",
   "execution_count": 17,
   "id": "3c8364bf",
   "metadata": {},
   "outputs": [],
   "source": [
    "factCovid = pd.read_csv('factCovid.csv')"
   ]
  },
  {
   "cell_type": "code",
   "execution_count": 21,
   "id": "77a17aa1",
   "metadata": {},
   "outputs": [
    {
     "data": {
      "text/html": [
       "<div>\n",
       "<style scoped>\n",
       "    .dataframe tbody tr th:only-of-type {\n",
       "        vertical-align: middle;\n",
       "    }\n",
       "\n",
       "    .dataframe tbody tr th {\n",
       "        vertical-align: top;\n",
       "    }\n",
       "\n",
       "    .dataframe thead th {\n",
       "        text-align: right;\n",
       "    }\n",
       "</style>\n",
       "<table border=\"1\" class=\"dataframe\">\n",
       "  <thead>\n",
       "    <tr style=\"text-align: right;\">\n",
       "      <th></th>\n",
       "      <th>fips</th>\n",
       "      <th>province_state</th>\n",
       "      <th>country_region</th>\n",
       "      <th>confirmed</th>\n",
       "      <th>deaths</th>\n",
       "      <th>recovered</th>\n",
       "      <th>active</th>\n",
       "      <th>date</th>\n",
       "      <th>state</th>\n",
       "      <th>positive</th>\n",
       "      <th>negative</th>\n",
       "      <th>hospitalizedcurrently</th>\n",
       "      <th>hospitalized</th>\n",
       "      <th>hospitalizeddischarged</th>\n",
       "    </tr>\n",
       "  </thead>\n",
       "  <tbody>\n",
       "    <tr>\n",
       "      <th>0</th>\n",
       "      <td>72.0</td>\n",
       "      <td>Puerto Rico</td>\n",
       "      <td>US</td>\n",
       "      <td>3.0</td>\n",
       "      <td>0.0</td>\n",
       "      <td>0.0</td>\n",
       "      <td>NaN</td>\n",
       "      <td>20210219</td>\n",
       "      <td>PR</td>\n",
       "      <td>98624.0</td>\n",
       "      <td>305972.0</td>\n",
       "      <td>214.0</td>\n",
       "      <td>NaN</td>\n",
       "      <td>NaN</td>\n",
       "    </tr>\n",
       "    <tr>\n",
       "      <th>1</th>\n",
       "      <td>72.0</td>\n",
       "      <td>Puerto Rico</td>\n",
       "      <td>US</td>\n",
       "      <td>3.0</td>\n",
       "      <td>0.0</td>\n",
       "      <td>0.0</td>\n",
       "      <td>NaN</td>\n",
       "      <td>20210218</td>\n",
       "      <td>PR</td>\n",
       "      <td>98506.0</td>\n",
       "      <td>305972.0</td>\n",
       "      <td>233.0</td>\n",
       "      <td>NaN</td>\n",
       "      <td>NaN</td>\n",
       "    </tr>\n",
       "    <tr>\n",
       "      <th>2</th>\n",
       "      <td>72.0</td>\n",
       "      <td>Puerto Rico</td>\n",
       "      <td>US</td>\n",
       "      <td>3.0</td>\n",
       "      <td>0.0</td>\n",
       "      <td>0.0</td>\n",
       "      <td>NaN</td>\n",
       "      <td>20210217</td>\n",
       "      <td>PR</td>\n",
       "      <td>98428.0</td>\n",
       "      <td>305972.0</td>\n",
       "      <td>241.0</td>\n",
       "      <td>NaN</td>\n",
       "      <td>NaN</td>\n",
       "    </tr>\n",
       "    <tr>\n",
       "      <th>3</th>\n",
       "      <td>72.0</td>\n",
       "      <td>Puerto Rico</td>\n",
       "      <td>US</td>\n",
       "      <td>3.0</td>\n",
       "      <td>0.0</td>\n",
       "      <td>0.0</td>\n",
       "      <td>NaN</td>\n",
       "      <td>20210216</td>\n",
       "      <td>PR</td>\n",
       "      <td>98317.0</td>\n",
       "      <td>305972.0</td>\n",
       "      <td>220.0</td>\n",
       "      <td>NaN</td>\n",
       "      <td>NaN</td>\n",
       "    </tr>\n",
       "    <tr>\n",
       "      <th>4</th>\n",
       "      <td>72.0</td>\n",
       "      <td>Puerto Rico</td>\n",
       "      <td>US</td>\n",
       "      <td>3.0</td>\n",
       "      <td>0.0</td>\n",
       "      <td>0.0</td>\n",
       "      <td>NaN</td>\n",
       "      <td>20210215</td>\n",
       "      <td>PR</td>\n",
       "      <td>97837.0</td>\n",
       "      <td>305972.0</td>\n",
       "      <td>209.0</td>\n",
       "      <td>NaN</td>\n",
       "      <td>NaN</td>\n",
       "    </tr>\n",
       "  </tbody>\n",
       "</table>\n",
       "</div>"
      ],
      "text/plain": [
       "   fips province_state country_region  confirmed  deaths  recovered  active  \\\n",
       "0  72.0    Puerto Rico             US        3.0     0.0        0.0     NaN   \n",
       "1  72.0    Puerto Rico             US        3.0     0.0        0.0     NaN   \n",
       "2  72.0    Puerto Rico             US        3.0     0.0        0.0     NaN   \n",
       "3  72.0    Puerto Rico             US        3.0     0.0        0.0     NaN   \n",
       "4  72.0    Puerto Rico             US        3.0     0.0        0.0     NaN   \n",
       "\n",
       "       date state  positive  negative  hospitalizedcurrently  hospitalized  \\\n",
       "0  20210219    PR   98624.0  305972.0                  214.0           NaN   \n",
       "1  20210218    PR   98506.0  305972.0                  233.0           NaN   \n",
       "2  20210217    PR   98428.0  305972.0                  241.0           NaN   \n",
       "3  20210216    PR   98317.0  305972.0                  220.0           NaN   \n",
       "4  20210215    PR   97837.0  305972.0                  209.0           NaN   \n",
       "\n",
       "   hospitalizeddischarged  \n",
       "0                     NaN  \n",
       "1                     NaN  \n",
       "2                     NaN  \n",
       "3                     NaN  \n",
       "4                     NaN  "
      ]
     },
     "execution_count": 21,
     "metadata": {},
     "output_type": "execute_result"
    }
   ],
   "source": [
    "factCovid.head()"
   ]
  },
  {
   "cell_type": "code",
   "execution_count": 20,
   "id": "f305c8cd",
   "metadata": {},
   "outputs": [],
   "source": [
    "factCovid.drop('Unnamed: 0',axis=1,inplace=True)"
   ]
  },
  {
   "cell_type": "code",
   "execution_count": 22,
   "id": "a5ac90e3",
   "metadata": {},
   "outputs": [],
   "source": [
    "factCovidSchema = pd.io.sql.get_schema(factCovid.reset_index(),'factCovid')"
   ]
  },
  {
   "cell_type": "code",
   "execution_count": 23,
   "id": "0c0027c1",
   "metadata": {},
   "outputs": [
    {
     "name": "stdout",
     "output_type": "stream",
     "text": [
      "CREATE TABLE \"factCovid\" (\n",
      "\"index\" INTEGER,\n",
      "  \"fips\" REAL,\n",
      "  \"province_state\" TEXT,\n",
      "  \"country_region\" TEXT,\n",
      "  \"confirmed\" REAL,\n",
      "  \"deaths\" REAL,\n",
      "  \"recovered\" REAL,\n",
      "  \"active\" REAL,\n",
      "  \"date\" INTEGER,\n",
      "  \"state\" TEXT,\n",
      "  \"positive\" REAL,\n",
      "  \"negative\" REAL,\n",
      "  \"hospitalizedcurrently\" REAL,\n",
      "  \"hospitalized\" REAL,\n",
      "  \"hospitalizeddischarged\" REAL\n",
      ")\n"
     ]
    }
   ],
   "source": [
    "print(\"\".join(factCovidSchema))"
   ]
  },
  {
   "cell_type": "code",
   "execution_count": 25,
   "id": "fff58dda",
   "metadata": {},
   "outputs": [],
   "source": [
    "#Initiating Config"
   ]
  },
  {
   "cell_type": "code",
   "execution_count": 47,
   "id": "247bf59d",
   "metadata": {},
   "outputs": [],
   "source": [
    "import configparser"
   ]
  },
  {
   "cell_type": "code",
   "execution_count": 60,
   "id": "d6cdeb7f",
   "metadata": {},
   "outputs": [],
   "source": [
    "config = configparser.ConfigParser()"
   ]
  },
  {
   "cell_type": "code",
   "execution_count": 61,
   "id": "5b50a309",
   "metadata": {},
   "outputs": [
    {
     "data": {
      "text/plain": [
       "['cluster.config']"
      ]
     },
     "execution_count": 61,
     "metadata": {},
     "output_type": "execute_result"
    }
   ],
   "source": [
    "config.read('cluster.config')"
   ]
  },
  {
   "cell_type": "code",
   "execution_count": 62,
   "id": "cd226e1d",
   "metadata": {},
   "outputs": [
    {
     "data": {
      "text/plain": [
       "'172.17.0.2'"
      ]
     },
     "execution_count": 62,
     "metadata": {},
     "output_type": "execute_result"
    }
   ],
   "source": [
    "config['POSTGRES']['PG_HOST']"
   ]
  },
  {
   "cell_type": "code",
   "execution_count": 63,
   "id": "4d719646",
   "metadata": {},
   "outputs": [],
   "source": [
    "db = config['POSTGRES']['PG_DB']\n",
    "user = config['POSTGRES']['PG_UNAME']\n",
    "passwd = config['POSTGRES']['PG_PASS']\n",
    "port = config['POSTGRES']['PG_PORT']\n",
    "host = config['POSTGRES']['PG_HOST']"
   ]
  },
  {
   "cell_type": "code",
   "execution_count": 69,
   "id": "ab47e6d8",
   "metadata": {},
   "outputs": [],
   "source": [
    "import psycopg2"
   ]
  },
  {
   "cell_type": "code",
   "execution_count": 71,
   "id": "d9e15950",
   "metadata": {},
   "outputs": [],
   "source": [
    "try:\n",
    "    conn = psycopg2.connect(host=host,dbname=db,user=user,password=passwd,port=port)\n",
    "except Exception as e:\n",
    "    print(e)"
   ]
  },
  {
   "cell_type": "code",
   "execution_count": 72,
   "id": "cce5b260",
   "metadata": {},
   "outputs": [],
   "source": [
    "conn.set_session(autocommit=True)"
   ]
  },
  {
   "cell_type": "code",
   "execution_count": 73,
   "id": "9dffd99d",
   "metadata": {},
   "outputs": [],
   "source": [
    "try:\n",
    "    cur = conn.cursor()\n",
    "    \n",
    "except:\n",
    "    print(e)"
   ]
  },
  {
   "cell_type": "code",
   "execution_count": 81,
   "id": "4da312ec",
   "metadata": {},
   "outputs": [],
   "source": [
    "try:\n",
    "    cur.execute(\"\"\"\n",
    "        CREATE TABLE \"factcovid\" (\n",
    "        \"index\" NUMERIC,\n",
    "          \"fips\" NUMERIC,\n",
    "          \"province_state\" VARCHAR(255),\n",
    "          \"country_region\" VARCHAR(255),\n",
    "          \"confirmed\" NUMERIC,\n",
    "          \"deaths\" NUMERIC,\n",
    "          \"recovered\" NUMERIC,\n",
    "          \"active\" NUMERIC,\n",
    "          \"date\" NUMERIC,\n",
    "          \"state\" VARCHAR(255),\n",
    "          \"positive\" NUMERIC,\n",
    "          \"negative\" NUMERIC,\n",
    "          \"hospitalizedcurrently\" NUMERIC,\n",
    "          \"hospitalized\" NUMERIC,\n",
    "          \"hospitalizeddischarged\" NUMERIC\n",
    "        )\n",
    "    \"\"\")\n",
    "except Exception as e:\n",
    "    print(e)"
   ]
  },
  {
   "cell_type": "code",
   "execution_count": 83,
   "id": "4cc47445",
   "metadata": {},
   "outputs": [],
   "source": [
    "try:\n",
    "    cur.execute(\"\"\"\n",
    "        COPY factcovid from '/var/lib/postgresql/data/factCovid.csv'\n",
    "        DELIMITER ',' CSV HEADER\n",
    "    \"\"\")\n",
    "except Exception as e:\n",
    "    print(e)"
   ]
  },
  {
   "cell_type": "code",
   "execution_count": null,
   "id": "016b2cc4",
   "metadata": {},
   "outputs": [],
   "source": []
  }
 ],
 "metadata": {
  "kernelspec": {
   "display_name": "Python 3 (ipykernel)",
   "language": "python",
   "name": "python3"
  },
  "language_info": {
   "codemirror_mode": {
    "name": "ipython",
    "version": 3
   },
   "file_extension": ".py",
   "mimetype": "text/x-python",
   "name": "python",
   "nbconvert_exporter": "python",
   "pygments_lexer": "ipython3",
   "version": "3.10.7"
  }
 },
 "nbformat": 4,
 "nbformat_minor": 5
}
